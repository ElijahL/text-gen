{
 "cells": [
  {
   "cell_type": "code",
   "execution_count": 4,
   "metadata": {},
   "outputs": [],
   "source": [
    "from collections import Counter"
   ]
  },
  {
   "cell_type": "code",
   "execution_count": 6,
   "metadata": {},
   "outputs": [],
   "source": [
    "with open('../train/zavodnoy_apelsin.txt', 'r') as file:\n",
    "    zavodnoy_apelsin = file.read()\n",
    "with open('../train/po_kom_zvonit_kolokol.txt', 'r') as file:\n",
    "    po_kom_zvonit_kolokol = file.read()"
   ]
  },
  {
   "cell_type": "code",
   "execution_count": 7,
   "metadata": {},
   "outputs": [],
   "source": [
    "import re\n",
    "\n",
    "zavodnoy_apelsin = zavodnoy_apelsin.replace('.', ' END')\n",
    "po_kom_zvonit_kolokol = po_kom_zvonit_kolokol.replace('.', ' END') \n",
    "\n",
    "zavodnoy_apelsin_words = zavodnoy_apelsin.split()\n",
    "po_kom_zvonit_kolokol_words = po_kom_zvonit_kolokol.split()\n",
    "\n",
    "corpus = po_kom_zvonit_kolokol_words + zavodnoy_apelsin_words"
   ]
  },
  {
   "cell_type": "code",
   "execution_count": 8,
   "metadata": {},
   "outputs": [
    {
     "output_type": "execute_result",
     "data": {
      "text/plain": [
       "'END'"
      ]
     },
     "metadata": {},
     "execution_count": 8
    }
   ],
   "source": [
    "corpus[-1]"
   ]
  },
  {
   "cell_type": "code",
   "execution_count": 483,
   "metadata": {},
   "outputs": [],
   "source": [
    "import random\n",
    "\n",
    "class Dictogram(dict):\n",
    "    def __init__(self, iterable=None):\n",
    "        # Инициализируем наше распределение как новый объект класса, \n",
    "        # добавляем имеющиеся элементы\n",
    "        super(Dictogram, self).__init__()\n",
    "        self.types = 0  # число уникальных ключей в распределении\n",
    "        self.tokens = 0  # общее количество всех слов в распределении\n",
    "        if iterable:\n",
    "            self.update(iterable)\n",
    "\n",
    "    def update(self, iterable):\n",
    "        # Обновляем распределение элементами из имеющегося \n",
    "        # итерируемого набора данных\n",
    "        for item in iterable:\n",
    "            if item in self:\n",
    "                self[item] += 1\n",
    "                self.tokens += 1\n",
    "            else:\n",
    "                self[item] = 1\n",
    "                self.types += 1\n",
    "                self.tokens += 1\n",
    "\n",
    "    def count(self, item):\n",
    "        # Возвращаем значение счетчика элемента, или 0\n",
    "        if item in self:\n",
    "            return self[item]\n",
    "        return 0\n",
    "\n",
    "    def return_random_word(self):\n",
    "        # random_key = random.sample(self, 1)\n",
    "        # Другой способ:\n",
    "        return random.choice(list(histogram.keys()))\n",
    "        # return random_key[0]\n",
    "\n",
    "    def return_weighted_random_word(self):\n",
    "        # Сгенерировать псевдослучайное число между 0 и (n-1),\n",
    "        # где n - общее число слов\n",
    "        random_int = random.randint(0, self.tokens-1)\n",
    "        index = 0\n",
    "        list_of_keys = list(self.keys())\n",
    "        # вывести 'случайный индекс:', random_int\n",
    "        for i in range(0, self.types):\n",
    "            index += self[list_of_keys[i]]\n",
    "            # вывести индекс\n",
    "            if(index > random_int):\n",
    "                # вывести list_of_keys[i]\n",
    "                return list_of_keys[i]"
   ]
  },
  {
   "cell_type": "code",
   "execution_count": 484,
   "metadata": {},
   "outputs": [],
   "source": [
    "def make_markov_model(data):\n",
    "    markov_model = dict()\n",
    "\n",
    "    for i in range(0, len(data)-1):\n",
    "        if data[i] in markov_model:\n",
    "            # Просто присоединяем к уже существующему распределению\n",
    "            markov_model[data[i]].update([data[i+1]])\n",
    "        else:\n",
    "            markov_model[data[i]] = Dictogram([data[i+1]])\n",
    "    return markov_model\n",
    "        "
   ]
  },
  {
   "cell_type": "code",
   "execution_count": 485,
   "metadata": {},
   "outputs": [],
   "source": [
    "def make_higher_order_markov_model(order, data):\n",
    "    markov_model = dict()\n",
    "\n",
    "    for i in range(0, len(data)-order):\n",
    "        # Создаем окно\n",
    "        window = tuple(data[i: i+order])\n",
    "        # Добавляем в словарь\n",
    "        if window in markov_model:\n",
    "            # Присоединяем к уже существующему распределению\n",
    "            markov_model[window].update([data[i+order]])\n",
    "        else:\n",
    "            markov_model[window] = Dictogram([data[i+order]])\n",
    "    return markov_model"
   ]
  },
  {
   "cell_type": "code",
   "execution_count": 495,
   "metadata": {},
   "outputs": [],
   "source": [
    "def generate_random_start(model):\n",
    "    # Чтобы сгенерировать любое начальное слово, раскомментируйте строку:\n",
    "    # return random.choice(list(model.keys()))\n",
    "\n",
    "    # Чтобы сгенерировать \"правильное\" начальное слово, используйте код ниже:\n",
    "    # Правильные начальные слова - это те, что являлись началом предложений в корпусе\n",
    "#     if 'END' in model:\n",
    "#         seed_word = 'END'\n",
    "#         while seed_word == 'END':\n",
    "#             seed_word = model['END'].return_weighted_random_word()\n",
    "#         return seed_word\n",
    "    return random.choice(list(model.keys()))\n",
    "\n",
    "\n",
    "def generate_random_sentence(length, markov_model):\n",
    "    current_word = generate_random_start(markov_model)\n",
    "    sentence = list(current_word)\n",
    "    while(True):\n",
    "        if len(sentence) >= length and current_word[-1] == 'END' :\n",
    "            break\n",
    "        current_dictogram = markov_model[current_word]\n",
    "        random_weighted_word = current_dictogram.return_weighted_random_word()\n",
    "        sentence.append(random_weighted_word)\n",
    "        current_word = (current_word[1:] + (random_weighted_word,))\n",
    "    sentence[0] = sentence[0].capitalize()\n",
    "    answer = ' '.join(sentence)\n",
    "    answer = answer.replace(' END', '.')\n",
    "    return answer"
   ]
  },
  {
   "cell_type": "code",
   "execution_count": 497,
   "metadata": {},
   "outputs": [
    {
     "data": {
      "text/plain": [
       "'Их взрывают? Роберт Джордан объяснил и это и, объясняя, почувствовал, что девушка, заглядывая в его записную книжку, оперлась на его плечо. Это была его жена, и он сказал самому себе: боишься, да? А вслух сказал: — Она просто суеверная, болтливая баба. Давай опять говорить про Мадрид. Не могу. Думай про Мадрид. — Значит, слюбились. Ты береги ее. — Спокойной ночи, жена. Он услышал шлепанье карабинного чехла о седло и скрип кожи. — Мария, — сказала Пилар. — А все-таки чем же это пахнет? — спросил Фернандо. — Наелся? Хватило тебе? — Я бы лучше хотела быть с тобой так, как мне хочется, вот я и подумал об этом.'"
      ]
     },
     "execution_count": 497,
     "metadata": {},
     "output_type": "execute_result"
    }
   ],
   "source": [
    "model = make_higher_order_markov_model(3, corpus)\n",
    "generate_random_sentence(100, model)"
   ]
  },
  {
   "cell_type": "markdown",
   "metadata": {},
   "source": [
    "<h1>From the topics</h1>\n",
    "<h5>understanding...</h5>"
   ]
  },
  {
   "cell_type": "code",
   "execution_count": 9,
   "metadata": {},
   "outputs": [],
   "source": [
    "# string = 'One fish two fish red fish blue fish'\n",
    "kolokol = po_kom_zvonit_kolokol\n",
    "apelsin = zavodnoy_apelsin\n",
    "corpus = kolokol.split() + apelsin.split()"
   ]
  },
  {
   "cell_type": "code",
   "execution_count": 10,
   "metadata": {},
   "outputs": [],
   "source": [
    "def distribution(corpus):\n",
    "    dist = dict()\n",
    "    for token in corpus:\n",
    "        if token in dist:\n",
    "            dist[token] += 1\n",
    "        else:\n",
    "            dist[token] = 1\n",
    "    return dist"
   ]
  },
  {
   "cell_type": "code",
   "execution_count": 32,
   "metadata": {},
   "outputs": [
    {
     "output_type": "execute_result",
     "data": {
      "text/plain": [
       "['1',\n",
       " 'Он',\n",
       " 'лежал',\n",
       " 'на',\n",
       " 'устланной',\n",
       " 'сосновыми',\n",
       " 'иглами',\n",
       " 'бурой',\n",
       " 'земле,',\n",
       " 'уткнув']"
      ]
     },
     "metadata": {},
     "execution_count": 32
    }
   ],
   "source": [
    "BEGIN = '_BEGIN_'\n",
    "END = '_END_'\n",
    "\n",
    "# n_string = BEGIN + ' ' + string + ' ' + END\n",
    "# n_corpus = n_string.split()\n",
    "\n",
    "dist = distribution(corpus)\n",
    "list(dist.keys())[:10]"
   ]
  },
  {
   "cell_type": "code",
   "execution_count": 38,
   "metadata": {},
   "outputs": [
    {
     "output_type": "execute_result",
     "data": {
      "text/plain": [
       "[('1', 'Он', 'лежал'),\n",
       " ('Он', 'лежал', 'на'),\n",
       " ('лежал', 'на', 'устланной'),\n",
       " ('на', 'устланной', 'сосновыми'),\n",
       " ('устланной', 'сосновыми', 'иглами'),\n",
       " ('сосновыми', 'иглами', 'бурой'),\n",
       " ('иглами', 'бурой', 'земле,'),\n",
       " ('бурой', 'земле,', 'уткнув'),\n",
       " ('земле,', 'уткнув', 'подбородок'),\n",
       " ('уткнув', 'подбородок', 'в')]"
      ]
     },
     "metadata": {},
     "execution_count": 38
    }
   ],
   "source": [
    "windows = []\n",
    "length = len(corpus)\n",
    "for i in range(0, length - 1):\n",
    "    windows.append((corpus[i], corpus[i + 1]))\n",
    "    # connections.append([(corpus[j]) for j in range(i, i+1)])\n",
    "windows.append((corpus[i], None))\n",
    "    \n",
    "def make_higher_order_windows(corpus, order):\n",
    "    windows = []\n",
    "    for i in range(0, len(corpus) - order):\n",
    "        windows.append(tuple(corpus[i: i + order]))\n",
    "    return windows\n",
    "\n",
    "higher_order_windows = make_higher_order_windows(corpus, 3)\n",
    "higher_order_windows[:10]"
   ]
  },
  {
   "cell_type": "code",
   "execution_count": 56,
   "metadata": {
    "tags": []
   },
   "outputs": [
    {
     "output_type": "execute_result",
     "data": {
      "text/plain": [
       "{('1', 'Он', 'лежал'): ['лежал']}"
      ]
     },
     "metadata": {},
     "execution_count": 56
    }
   ],
   "source": [
    "def make_model_with_freq(windows):\n",
    "    model = dict()\n",
    "    for item in windows:\n",
    "        if item[0] in model:\n",
    "            model[item[0]].append((item[1:], model[item[1:]]))\n",
    "        else:\n",
    "            model[item[0]] = []\n",
    "            if item[1:] != None:\n",
    "                model[item[0]].append((item[1:], model[item[1:]]))\n",
    "            else:\n",
    "                model[item[0]].append((item[1:], 1))\n",
    "    return model\n",
    "\n",
    "def make_model(windows):\n",
    "    model = dict()\n",
    "    for item in windows:\n",
    "        if item[0] in model:\n",
    "            model[item[0]].append(item[1])\n",
    "        else:\n",
    "            model[item[0]] = []\n",
    "            if item[1] != None:\n",
    "                model[item[0]].append(item[1])\n",
    "            else:\n",
    "                model[item[0]].append(1)\n",
    "    return model\n",
    "\n",
    "def make_higher_order_model(windows, order):\n",
    "    model = dict()\n",
    "    for window in windows:\n",
    "        if window in model:\n",
    "            model[window].append(window[-1])\n",
    "        else:\n",
    "            model[window] = []\n",
    "            if window[-1] != None:\n",
    "                model[window].append(window[-1])\n",
    "\n",
    "def make_higher_order_markov_model(order, data):\n",
    "    markov_model = dict()\n",
    "    for i in range(0, len(data)-order):\n",
    "        # Создаем окно\n",
    "        window = tuple(data[i: i+order])\n",
    "        # Добавляем в словарь\n",
    "        if window in markov_model:\n",
    "            # Присоединяем к уже существующему распределению\n",
    "            markov_model[window].update([data[i+order]])\n",
    "        else:\n",
    "            markov_model[window] = Dictogram([data[i+order]])\n",
    "    return markov_model\n",
    "\n",
    "model = make_model(windows)\n",
    "higher_order_model = make_higher_order_model(higher_order_windows, 3)\n",
    "# list(higher_order_model.keys())[:5]\n",
    "\n",
    "markov = dict()\n",
    "window = higher_order_windows[0]\n",
    "markov[window] = []\n",
    "markov[window].append(window[-1])\n",
    "markov"
   ]
  },
  {
   "cell_type": "code",
   "execution_count": 42,
   "metadata": {},
   "outputs": [
    {
     "output_type": "error",
     "ename": "AttributeError",
     "evalue": "'NoneType' object has no attribute 'keys'",
     "traceback": [
      "\u001b[0;31m---------------------------------------------------------------------------\u001b[0m",
      "\u001b[0;31mAttributeError\u001b[0m                            Traceback (most recent call last)",
      "\u001b[0;32m<ipython-input-42-26d561509860>\u001b[0m in \u001b[0;36m<module>\u001b[0;34m\u001b[0m\n\u001b[1;32m     22\u001b[0m \u001b[0mans\u001b[0m \u001b[0;34m=\u001b[0m \u001b[0mmake_sentence\u001b[0m\u001b[0;34m(\u001b[0m\u001b[0mmodel\u001b[0m\u001b[0;34m,\u001b[0m \u001b[0;36m100\u001b[0m\u001b[0;34m)\u001b[0m\u001b[0;34m\u001b[0m\u001b[0;34m\u001b[0m\u001b[0m\n\u001b[1;32m     23\u001b[0m \u001b[0;31m# prob_sentence = make_sentence_with_prob(model_freq, 12)\u001b[0m\u001b[0;34m\u001b[0m\u001b[0;34m\u001b[0m\u001b[0;34m\u001b[0m\u001b[0m\n\u001b[0;32m---> 24\u001b[0;31m \u001b[0mans\u001b[0m \u001b[0;34m=\u001b[0m \u001b[0mmake_sentence\u001b[0m\u001b[0;34m(\u001b[0m\u001b[0mhigher_order_model\u001b[0m\u001b[0;34m,\u001b[0m \u001b[0;36m100\u001b[0m\u001b[0;34m)\u001b[0m\u001b[0;34m\u001b[0m\u001b[0;34m\u001b[0m\u001b[0m\n\u001b[0m\u001b[1;32m     25\u001b[0m \u001b[0;34m\u001b[0m\u001b[0m\n\u001b[1;32m     26\u001b[0m \u001b[0mprint\u001b[0m\u001b[0;34m(\u001b[0m\u001b[0mans\u001b[0m\u001b[0;34m)\u001b[0m\u001b[0;34m\u001b[0m\u001b[0;34m\u001b[0m\u001b[0m\n",
      "\u001b[0;32m<ipython-input-42-26d561509860>\u001b[0m in \u001b[0;36mmake_sentence\u001b[0;34m(model, n)\u001b[0m\n\u001b[1;32m     12\u001b[0m \u001b[0;34m\u001b[0m\u001b[0m\n\u001b[1;32m     13\u001b[0m \u001b[0;32mdef\u001b[0m \u001b[0mmake_sentence\u001b[0m\u001b[0;34m(\u001b[0m\u001b[0mmodel\u001b[0m\u001b[0;34m,\u001b[0m \u001b[0mn\u001b[0m\u001b[0;34m)\u001b[0m\u001b[0;34m:\u001b[0m\u001b[0;34m\u001b[0m\u001b[0;34m\u001b[0m\u001b[0m\n\u001b[0;32m---> 14\u001b[0;31m     \u001b[0mtmp\u001b[0m \u001b[0;34m=\u001b[0m \u001b[0mrandom\u001b[0m\u001b[0;34m.\u001b[0m\u001b[0mchoice\u001b[0m\u001b[0;34m(\u001b[0m\u001b[0mlist\u001b[0m\u001b[0;34m(\u001b[0m\u001b[0mmodel\u001b[0m\u001b[0;34m.\u001b[0m\u001b[0mkeys\u001b[0m\u001b[0;34m(\u001b[0m\u001b[0;34m)\u001b[0m\u001b[0;34m)\u001b[0m\u001b[0;34m)\u001b[0m\u001b[0;34m\u001b[0m\u001b[0;34m\u001b[0m\u001b[0m\n\u001b[0m\u001b[1;32m     15\u001b[0m     \u001b[0mans\u001b[0m \u001b[0;34m=\u001b[0m \u001b[0;34m''\u001b[0m\u001b[0;34m\u001b[0m\u001b[0;34m\u001b[0m\u001b[0m\n\u001b[1;32m     16\u001b[0m     \u001b[0;31m# while tmp != None:\u001b[0m\u001b[0;34m\u001b[0m\u001b[0;34m\u001b[0m\u001b[0;34m\u001b[0m\u001b[0m\n",
      "\u001b[0;31mAttributeError\u001b[0m: 'NoneType' object has no attribute 'keys'"
     ]
    }
   ],
   "source": [
    "import random\n",
    "\n",
    "def make_sentence_with_prob(model, n):\n",
    "    # ans = random.choice(model[BEGIN])[0]\n",
    "    ans = random.choice(list(model.keys()))\n",
    "    tmp = random.choices(model[ans], weights=[tuple[1] for tuple in model[ans]], k=1)[0][0]\n",
    "    # while tmp != None:\n",
    "    for _ in range(n):\n",
    "        ans += tmp + ' '\n",
    "        tmp = random.choices(model[tmp], weights=[tuple[1] for tuple in model[tmp]], k=1)[0][0]\n",
    "    return(ans)\n",
    "\n",
    "def make_sentence(model, n):\n",
    "    tmp = random.choice(list(model.keys()))\n",
    "    ans = ''\n",
    "    # while tmp != None:\n",
    "    for _ in range(n):\n",
    "        ans += tmp + ' '\n",
    "        tmp = random.choice(model[tmp])\n",
    "    return(ans)\n",
    "    \n",
    "ans = make_sentence(model, 100)\n",
    "# prob_sentence = make_sentence_with_prob(model_freq, 12)\n",
    "ans = make_sentence(higher_order_model, 100)\n",
    "\n",
    "print(ans)\n",
    "# print(prob_sentence)\n",
    "print()\n",
    "print(higher_order_model)"
   ]
  },
  {
   "cell_type": "code",
   "execution_count": null,
   "metadata": {},
   "outputs": [],
   "source": []
  }
 ],
 "metadata": {
  "kernelspec": {
   "display_name": "Python 3",
   "language": "python",
   "name": "python3"
  },
  "language_info": {
   "codemirror_mode": {
    "name": "ipython",
    "version": 3
   },
   "file_extension": ".py",
   "mimetype": "text/x-python",
   "name": "python",
   "nbconvert_exporter": "python",
   "pygments_lexer": "ipython3",
   "version": "3.7.4-final"
  }
 },
 "nbformat": 4,
 "nbformat_minor": 2
}